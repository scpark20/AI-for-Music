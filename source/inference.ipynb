{
 "cells": [
  {
   "cell_type": "code",
   "execution_count": 1,
   "id": "650bf53c",
   "metadata": {},
   "outputs": [],
   "source": [
    "import torch\n",
    "import torch.nn as nn\n",
    "import torch.nn.functional as F\n",
    "import numpy as np\n",
    "\n",
    "from torch.utils.data import DataLoader\n",
    "from dataset import dataset_hparams, MaestroDataset\n",
    "from model import model_hparams, Model"
   ]
  },
  {
   "cell_type": "code",
   "execution_count": 2,
   "id": "70f28322",
   "metadata": {},
   "outputs": [
    {
     "name": "stdout",
     "output_type": "stream",
     "text": [
      "<dataset.MaestroDataset object at 0x7f8cdc660e20>\n",
      "<torch.utils.data.dataloader.DataLoader object at 0x7f8cddec13d0>\n"
     ]
    }
   ],
   "source": [
    "maestro_dataset = MaestroDataset(dataset_hparams)\n",
    "print(maestro_dataset)\n",
    "\n",
    "train_loader = DataLoader(maestro_dataset, batch_size=16)\n",
    "print(train_loader)"
   ]
  },
  {
   "cell_type": "code",
   "execution_count": 3,
   "id": "c62e19b4",
   "metadata": {},
   "outputs": [],
   "source": [
    "def tokens_to_event_list(tokens, hp):\n",
    "    current_time = 0\n",
    "    current_velocity = 0\n",
    "    event_list = []\n",
    "    for token in tokens:\n",
    "        # interval\n",
    "        if token < hp.offsets.velocity:\n",
    "            current_time += token / hp.dims.interval * hp.max_note_duration\n",
    "            \n",
    "        # velocity\n",
    "        elif token < hp.offsets.note_on:\n",
    "            current_velocity = (token - hp.offsets.velocity) / hp.dims.velocity * 128\n",
    "            \n",
    "        # note_on\n",
    "        elif token < hp.offsets.note_off:\n",
    "            event = {'time': current_time,\n",
    "                     'type': 'note_on',\n",
    "                     'note': token - hp.offsets.note_on,\n",
    "                     'velocity': int(current_velocity)}\n",
    "            event_list.append(event)\n",
    "                     \n",
    "        # note_off\n",
    "        elif token < hp.offsets.pedal_on:\n",
    "            event = {'time': current_time,\n",
    "                     'type': 'note_off',\n",
    "                     'note': token - hp.offsets.note_off}\n",
    "            event_list.append(event)\n",
    "            \n",
    "        # pedal_on\n",
    "        elif token < hp.offsets.pedal_off:\n",
    "            event = {'time': current_time,\n",
    "                     'type': 'pedal_on'}\n",
    "            event_list.append(event)\n",
    "            \n",
    "        # pedal_off\n",
    "        else:\n",
    "            event = {'time': current_time,\n",
    "                     'type': 'pedal_off'}\n",
    "            event_list.append(event)\n",
    "    \n",
    "    return event_list\n",
    "    "
   ]
  },
  {
   "cell_type": "code",
   "execution_count": 4,
   "id": "26f3e6d9",
   "metadata": {},
   "outputs": [],
   "source": [
    "def save_event_list_to_midi_file(event_list, midi_file):\n",
    "    \n",
    "    new_event_list = []\n",
    "    notes = [None for _ in range(128)]\n",
    "    for event in event_list:\n",
    "        if event['type'] == 'note_on':\n",
    "            notes[event['note']] = event\n",
    "        elif event['type'] == 'note_off' and notes[event['note']] is not None:\n",
    "            notes[event['note']]['duration'] = max(event['time'] - notes[event['note']]['time'], 0)\n",
    "            new_event_list.append(notes[event['note']])\n",
    "            notes[event['note']] = None\n",
    "        elif event['type'] == 'pedal_on' or event['type'] == 'pedal_off': \n",
    "            new_event_list.append(event)\n",
    "    event_list = new_event_list\n",
    "    event_list.sort(key=lambda x:x['time'])\n",
    "#     for event in event_list:\n",
    "#         print(event)\n",
    "            \n",
    "    from midiutil import MIDIFile\n",
    "    '''\n",
    "    Reference : https://midiutil.readthedocs.io/en/1.2.1/index.html\n",
    "    '''\n",
    "    track    = 0\n",
    "    channel  = 0\n",
    "    tempo    = 60  # In BPM\n",
    "    MyMIDI = MIDIFile(1) # One track, defaults to format 1 (tempo track\n",
    "                         # automatically created)\n",
    "    MyMIDI.addTempo(track, 0, tempo)\n",
    "    \n",
    "    for event in event_list:\n",
    "        if event['type'] == 'note_on':\n",
    "            MyMIDI.addNote(track, channel, event['note'], event['time'], event['duration'], event['velocity'])\n",
    "            \n",
    "        elif event['type'] == 'pedal_on':\n",
    "            MyMIDI.addControllerEvent(track, channel, event['time'], 64, 1)\n",
    "            \n",
    "        elif event['type'] == 'pedal_off':\n",
    "            MyMIDI.addControllerEvent(track, channel, event['time'], 64, 0)\n",
    "            \n",
    "    with open(midi_file, \"wb\") as output_file:\n",
    "        MyMIDI.writeFile(output_file)\n",
    "    "
   ]
  },
  {
   "cell_type": "code",
   "execution_count": 50,
   "id": "fc7e4c2f",
   "metadata": {},
   "outputs": [
    {
     "name": "stdout",
     "output_type": "stream",
     "text": [
      "{'time': 0.0, 'type': 'note_on', 'note': 50, 'velocity': 76}\n",
      "{'time': 0.0, 'type': 'note_off', 'note': 62}\n",
      "{'time': 0.02, 'type': 'note_off', 'note': 50}\n",
      "{'time': 0.04, 'type': 'note_on', 'note': 78, 'velocity': 80}\n",
      "{'time': 0.04, 'type': 'note_off', 'note': 81}\n",
      "{'time': 0.04, 'type': 'note_off', 'note': 78}\n",
      "{'time': 0.08, 'type': 'note_on', 'note': 61, 'velocity': 92}\n",
      "{'time': 0.08, 'type': 'note_on', 'note': 81, 'velocity': 84}\n",
      "{'time': 0.08, 'type': 'note_on', 'note': 51, 'velocity': 72}\n",
      "{'time': 0.08, 'type': 'note_off', 'note': 61}\n",
      "{'time': 0.08, 'type': 'note_off', 'note': 51}\n",
      "{'time': 0.12, 'type': 'note_on', 'note': 85, 'velocity': 80}\n",
      "{'time': 0.12, 'type': 'note_off', 'note': 81}\n",
      "{'time': 0.18, 'type': 'note_on', 'note': 93, 'velocity': 92}\n",
      "{'time': 0.18, 'type': 'note_on', 'note': 57, 'velocity': 92}\n"
     ]
    }
   ],
   "source": [
    "event_list = tokens_to_event_list(maestro_dataset[1][:40], dataset_hparams)\n",
    "for event in event_list:\n",
    "    print(event)"
   ]
  },
  {
   "cell_type": "code",
   "execution_count": 51,
   "id": "9ff4f3c6",
   "metadata": {
    "scrolled": true
   },
   "outputs": [
    {
     "ename": "KeyError",
     "evalue": "'780'",
     "output_type": "error",
     "traceback": [
      "\u001b[0;31m---------------------------------------------------------------------------\u001b[0m",
      "\u001b[0;31mKeyError\u001b[0m                                  Traceback (most recent call last)",
      "\u001b[0;32m/tmp/ipykernel_3165654/3892692641.py\u001b[0m in \u001b[0;36m<module>\u001b[0;34m\u001b[0m\n\u001b[0;32m----> 1\u001b[0;31m \u001b[0msave_event_list_to_midi_file\u001b[0m\u001b[0;34m(\u001b[0m\u001b[0mevent_list\u001b[0m\u001b[0;34m,\u001b[0m \u001b[0;34m'sample.mid'\u001b[0m\u001b[0;34m)\u001b[0m\u001b[0;34m\u001b[0m\u001b[0;34m\u001b[0m\u001b[0m\n\u001b[0m",
      "\u001b[0;32m/tmp/ipykernel_3165654/2861440632.py\u001b[0m in \u001b[0;36msave_event_list_to_midi_file\u001b[0;34m(event_list, midi_file)\u001b[0m\n\u001b[1;32m     39\u001b[0m \u001b[0;34m\u001b[0m\u001b[0m\n\u001b[1;32m     40\u001b[0m     \u001b[0;32mwith\u001b[0m \u001b[0mopen\u001b[0m\u001b[0;34m(\u001b[0m\u001b[0mmidi_file\u001b[0m\u001b[0;34m,\u001b[0m \u001b[0;34m\"wb\"\u001b[0m\u001b[0;34m)\u001b[0m \u001b[0;32mas\u001b[0m \u001b[0moutput_file\u001b[0m\u001b[0;34m:\u001b[0m\u001b[0;34m\u001b[0m\u001b[0;34m\u001b[0m\u001b[0m\n\u001b[0;32m---> 41\u001b[0;31m         \u001b[0mMyMIDI\u001b[0m\u001b[0;34m.\u001b[0m\u001b[0mwriteFile\u001b[0m\u001b[0;34m(\u001b[0m\u001b[0moutput_file\u001b[0m\u001b[0;34m)\u001b[0m\u001b[0;34m\u001b[0m\u001b[0;34m\u001b[0m\u001b[0m\n\u001b[0m\u001b[1;32m     42\u001b[0m \u001b[0;34m\u001b[0m\u001b[0m\n",
      "\u001b[0;32m~/anaconda3/envs/ste/lib/python3.8/site-packages/midiutil/MidiFile.py\u001b[0m in \u001b[0;36mwriteFile\u001b[0;34m(self, fileHandle)\u001b[0m\n\u001b[1;32m   1635\u001b[0m \u001b[0;34m\u001b[0m\u001b[0m\n\u001b[1;32m   1636\u001b[0m         \u001b[0;31m# Close the tracks and have them create the MIDI event data structures.\u001b[0m\u001b[0;34m\u001b[0m\u001b[0;34m\u001b[0m\u001b[0;34m\u001b[0m\u001b[0m\n\u001b[0;32m-> 1637\u001b[0;31m         \u001b[0mself\u001b[0m\u001b[0;34m.\u001b[0m\u001b[0mclose\u001b[0m\u001b[0;34m(\u001b[0m\u001b[0;34m)\u001b[0m\u001b[0;34m\u001b[0m\u001b[0;34m\u001b[0m\u001b[0m\n\u001b[0m\u001b[1;32m   1638\u001b[0m \u001b[0;34m\u001b[0m\u001b[0m\n\u001b[1;32m   1639\u001b[0m         \u001b[0;31m# Write the MIDI Events to file.\u001b[0m\u001b[0;34m\u001b[0m\u001b[0;34m\u001b[0m\u001b[0;34m\u001b[0m\u001b[0m\n",
      "\u001b[0;32m~/anaconda3/envs/ste/lib/python3.8/site-packages/midiutil/MidiFile.py\u001b[0m in \u001b[0;36mclose\u001b[0;34m(self)\u001b[0m\n\u001b[1;32m   1686\u001b[0m \u001b[0;34m\u001b[0m\u001b[0m\n\u001b[1;32m   1687\u001b[0m         \u001b[0;32mfor\u001b[0m \u001b[0mi\u001b[0m \u001b[0;32min\u001b[0m \u001b[0mrange\u001b[0m\u001b[0;34m(\u001b[0m\u001b[0;36m0\u001b[0m\u001b[0;34m,\u001b[0m \u001b[0mself\u001b[0m\u001b[0;34m.\u001b[0m\u001b[0mnumTracks\u001b[0m\u001b[0;34m)\u001b[0m\u001b[0;34m:\u001b[0m\u001b[0;34m\u001b[0m\u001b[0;34m\u001b[0m\u001b[0m\n\u001b[0;32m-> 1688\u001b[0;31m             \u001b[0mself\u001b[0m\u001b[0;34m.\u001b[0m\u001b[0mtracks\u001b[0m\u001b[0;34m[\u001b[0m\u001b[0mi\u001b[0m\u001b[0;34m]\u001b[0m\u001b[0;34m.\u001b[0m\u001b[0mcloseTrack\u001b[0m\u001b[0;34m(\u001b[0m\u001b[0;34m)\u001b[0m\u001b[0;34m\u001b[0m\u001b[0;34m\u001b[0m\u001b[0m\n\u001b[0m\u001b[1;32m   1689\u001b[0m             \u001b[0;31m# We want things like program changes to come before notes when\u001b[0m\u001b[0;34m\u001b[0m\u001b[0;34m\u001b[0m\u001b[0;34m\u001b[0m\u001b[0m\n\u001b[1;32m   1690\u001b[0m             \u001b[0;31m# they are at the same time, so we sort the MIDI events by both\u001b[0m\u001b[0;34m\u001b[0m\u001b[0;34m\u001b[0m\u001b[0;34m\u001b[0m\u001b[0m\n",
      "\u001b[0;32m~/anaconda3/envs/ste/lib/python3.8/site-packages/midiutil/MidiFile.py\u001b[0m in \u001b[0;36mcloseTrack\u001b[0;34m(self)\u001b[0m\n\u001b[1;32m    824\u001b[0m             \u001b[0mself\u001b[0m\u001b[0;34m.\u001b[0m\u001b[0mremoveDuplicates\u001b[0m\u001b[0;34m(\u001b[0m\u001b[0;34m)\u001b[0m\u001b[0;34m\u001b[0m\u001b[0;34m\u001b[0m\u001b[0m\n\u001b[1;32m    825\u001b[0m \u001b[0;34m\u001b[0m\u001b[0m\n\u001b[0;32m--> 826\u001b[0;31m         \u001b[0mself\u001b[0m\u001b[0;34m.\u001b[0m\u001b[0mprocessEventList\u001b[0m\u001b[0;34m(\u001b[0m\u001b[0;34m)\u001b[0m\u001b[0;34m\u001b[0m\u001b[0;34m\u001b[0m\u001b[0m\n\u001b[0m\u001b[1;32m    827\u001b[0m \u001b[0;34m\u001b[0m\u001b[0m\n\u001b[1;32m    828\u001b[0m     \u001b[0;32mdef\u001b[0m \u001b[0mwriteMIDIStream\u001b[0m\u001b[0;34m(\u001b[0m\u001b[0mself\u001b[0m\u001b[0;34m)\u001b[0m\u001b[0;34m:\u001b[0m\u001b[0;34m\u001b[0m\u001b[0;34m\u001b[0m\u001b[0m\n",
      "\u001b[0;32m~/anaconda3/envs/ste/lib/python3.8/site-packages/midiutil/MidiFile.py\u001b[0m in \u001b[0;36mprocessEventList\u001b[0;34m(self)\u001b[0m\n\u001b[1;32m    787\u001b[0m \u001b[0;34m\u001b[0m\u001b[0m\n\u001b[1;32m    788\u001b[0m         \u001b[0;32mif\u001b[0m \u001b[0mself\u001b[0m\u001b[0;34m.\u001b[0m\u001b[0mdeinterleave\u001b[0m\u001b[0;34m:\u001b[0m\u001b[0;34m\u001b[0m\u001b[0;34m\u001b[0m\u001b[0m\n\u001b[0;32m--> 789\u001b[0;31m             \u001b[0mself\u001b[0m\u001b[0;34m.\u001b[0m\u001b[0mdeInterleaveNotes\u001b[0m\u001b[0;34m(\u001b[0m\u001b[0;34m)\u001b[0m\u001b[0;34m\u001b[0m\u001b[0;34m\u001b[0m\u001b[0m\n\u001b[0m\u001b[1;32m    790\u001b[0m \u001b[0;34m\u001b[0m\u001b[0m\n\u001b[1;32m    791\u001b[0m     \u001b[0;32mdef\u001b[0m \u001b[0mremoveDuplicates\u001b[0m\u001b[0;34m(\u001b[0m\u001b[0mself\u001b[0m\u001b[0;34m)\u001b[0m\u001b[0;34m:\u001b[0m\u001b[0;34m\u001b[0m\u001b[0;34m\u001b[0m\u001b[0m\n",
      "\u001b[0;32m~/anaconda3/envs/ste/lib/python3.8/site-packages/midiutil/MidiFile.py\u001b[0m in \u001b[0;36mdeInterleaveNotes\u001b[0;34m(self)\u001b[0m\n\u001b[1;32m    883\u001b[0m                     \u001b[0mtempEventList\u001b[0m\u001b[0;34m.\u001b[0m\u001b[0mappend\u001b[0m\u001b[0;34m(\u001b[0m\u001b[0mevent\u001b[0m\u001b[0;34m)\u001b[0m\u001b[0;34m\u001b[0m\u001b[0;34m\u001b[0m\u001b[0m\n\u001b[1;32m    884\u001b[0m                 \u001b[0;32melif\u001b[0m \u001b[0mevent\u001b[0m\u001b[0;34m.\u001b[0m\u001b[0mevtname\u001b[0m \u001b[0;34m==\u001b[0m \u001b[0;34m'NoteOff'\u001b[0m\u001b[0;34m:\u001b[0m\u001b[0;34m\u001b[0m\u001b[0;34m\u001b[0m\u001b[0m\n\u001b[0;32m--> 885\u001b[0;31m                     \u001b[0;32mif\u001b[0m \u001b[0mlen\u001b[0m\u001b[0;34m(\u001b[0m\u001b[0mstack\u001b[0m\u001b[0;34m[\u001b[0m\u001b[0mnoteeventkey\u001b[0m\u001b[0;34m]\u001b[0m\u001b[0;34m)\u001b[0m \u001b[0;34m>\u001b[0m \u001b[0;36m1\u001b[0m\u001b[0;34m:\u001b[0m\u001b[0;34m\u001b[0m\u001b[0;34m\u001b[0m\u001b[0m\n\u001b[0m\u001b[1;32m    886\u001b[0m                         \u001b[0mevent\u001b[0m\u001b[0;34m.\u001b[0m\u001b[0mtick\u001b[0m \u001b[0;34m=\u001b[0m \u001b[0mstack\u001b[0m\u001b[0;34m[\u001b[0m\u001b[0mnoteeventkey\u001b[0m\u001b[0;34m]\u001b[0m\u001b[0;34m.\u001b[0m\u001b[0mpop\u001b[0m\u001b[0;34m(\u001b[0m\u001b[0;34m)\u001b[0m\u001b[0;34m\u001b[0m\u001b[0;34m\u001b[0m\u001b[0m\n\u001b[1;32m    887\u001b[0m                         \u001b[0mtempEventList\u001b[0m\u001b[0;34m.\u001b[0m\u001b[0mappend\u001b[0m\u001b[0;34m(\u001b[0m\u001b[0mevent\u001b[0m\u001b[0;34m)\u001b[0m\u001b[0;34m\u001b[0m\u001b[0;34m\u001b[0m\u001b[0m\n",
      "\u001b[0;31mKeyError\u001b[0m: '780'"
     ]
    }
   ],
   "source": [
    "save_event_list_to_midi_file(event_list, 'sample.mid')"
   ]
  },
  {
   "cell_type": "code",
   "execution_count": 52,
   "id": "152c1062",
   "metadata": {},
   "outputs": [
    {
     "name": "stdout",
     "output_type": "stream",
     "text": [
      "Cloning into 'python3-midi'...\n",
      "remote: Enumerating objects: 553, done.\u001b[K\n",
      "remote: Total 553 (delta 0), reused 0 (delta 0), pack-reused 553\u001b[K\n",
      "Receiving objects: 100% (553/553), 207.89 KiB | 4.83 MiB/s, done.\n",
      "Resolving deltas: 100% (315/315), done.\n"
     ]
    }
   ],
   "source": [
    "!git clone https://github.com/louisabraham/python3-midi.git"
   ]
  },
  {
   "cell_type": "code",
   "execution_count": 55,
   "id": "94ce1b25",
   "metadata": {
    "scrolled": true
   },
   "outputs": [
    {
     "name": "stdout",
     "output_type": "stream",
     "text": [
      "Warning: could not find asoundlib.h, not including ALSA sequencer support!\n",
      "/home/gaudio/anaconda3/envs/ste/lib/python3.8/site-packages/setuptools/dist.py:484: UserWarning: Normalizing 'v0.2.3' to '0.2.3'\n",
      "  warnings.warn(tmpl.format(**locals()))\n",
      "running install\n",
      "running bdist_egg\n",
      "running egg_info\n",
      "creating midi.egg-info\n",
      "writing midi.egg-info/PKG-INFO\n",
      "writing dependency_links to midi.egg-info/dependency_links.txt\n",
      "writing top-level names to midi.egg-info/top_level.txt\n",
      "writing manifest file 'midi.egg-info/SOURCES.txt'\n",
      "reading manifest file 'midi.egg-info/SOURCES.txt'\n",
      "adding license file 'LICENSE'\n",
      "writing manifest file 'midi.egg-info/SOURCES.txt'\n",
      "installing library code to build/bdist.linux-x86_64/egg\n",
      "running install_lib\n",
      "running build_py\n",
      "creating build\n",
      "creating build/lib\n",
      "creating build/lib/midi\n",
      "copying src/__init__.py -> build/lib/midi\n",
      "copying src/containers.py -> build/lib/midi\n",
      "copying src/events.py -> build/lib/midi\n",
      "copying src/util.py -> build/lib/midi\n",
      "copying src/fileio.py -> build/lib/midi\n",
      "copying src/constants.py -> build/lib/midi\n",
      "creating build/bdist.linux-x86_64\n",
      "creating build/bdist.linux-x86_64/egg\n",
      "creating build/bdist.linux-x86_64/egg/midi\n",
      "copying build/lib/midi/constants.py -> build/bdist.linux-x86_64/egg/midi\n",
      "copying build/lib/midi/containers.py -> build/bdist.linux-x86_64/egg/midi\n",
      "copying build/lib/midi/events.py -> build/bdist.linux-x86_64/egg/midi\n",
      "copying build/lib/midi/util.py -> build/bdist.linux-x86_64/egg/midi\n",
      "copying build/lib/midi/fileio.py -> build/bdist.linux-x86_64/egg/midi\n",
      "copying build/lib/midi/__init__.py -> build/bdist.linux-x86_64/egg/midi\n",
      "byte-compiling build/bdist.linux-x86_64/egg/midi/constants.py to constants.cpython-38.pyc\n",
      "byte-compiling build/bdist.linux-x86_64/egg/midi/containers.py to containers.cpython-38.pyc\n",
      "byte-compiling build/bdist.linux-x86_64/egg/midi/events.py to events.cpython-38.pyc\n",
      "byte-compiling build/bdist.linux-x86_64/egg/midi/util.py to util.cpython-38.pyc\n",
      "byte-compiling build/bdist.linux-x86_64/egg/midi/fileio.py to fileio.cpython-38.pyc\n",
      "byte-compiling build/bdist.linux-x86_64/egg/midi/__init__.py to __init__.cpython-38.pyc\n",
      "creating build/bdist.linux-x86_64/egg/EGG-INFO\n",
      "installing scripts to build/bdist.linux-x86_64/egg/EGG-INFO/scripts\n",
      "running install_scripts\n",
      "running build_scripts\n",
      "creating build/scripts-3.8\n",
      "copying and adjusting scripts/mididump.py -> build/scripts-3.8\n",
      "copying and adjusting scripts/mididumphw.py -> build/scripts-3.8\n",
      "copying and adjusting scripts/midiplay.py -> build/scripts-3.8\n",
      "changing mode of build/scripts-3.8/mididump.py from 644 to 755\n",
      "changing mode of build/scripts-3.8/mididumphw.py from 644 to 755\n",
      "changing mode of build/scripts-3.8/midiplay.py from 644 to 755\n",
      "creating build/bdist.linux-x86_64/egg/EGG-INFO/scripts\n",
      "copying build/scripts-3.8/mididump.py -> build/bdist.linux-x86_64/egg/EGG-INFO/scripts\n",
      "copying build/scripts-3.8/midiplay.py -> build/bdist.linux-x86_64/egg/EGG-INFO/scripts\n",
      "copying build/scripts-3.8/mididumphw.py -> build/bdist.linux-x86_64/egg/EGG-INFO/scripts\n",
      "changing mode of build/bdist.linux-x86_64/egg/EGG-INFO/scripts/mididump.py to 755\n",
      "changing mode of build/bdist.linux-x86_64/egg/EGG-INFO/scripts/midiplay.py to 755\n",
      "changing mode of build/bdist.linux-x86_64/egg/EGG-INFO/scripts/mididumphw.py to 755\n",
      "copying midi.egg-info/PKG-INFO -> build/bdist.linux-x86_64/egg/EGG-INFO\n",
      "copying midi.egg-info/SOURCES.txt -> build/bdist.linux-x86_64/egg/EGG-INFO\n",
      "copying midi.egg-info/dependency_links.txt -> build/bdist.linux-x86_64/egg/EGG-INFO\n",
      "copying midi.egg-info/top_level.txt -> build/bdist.linux-x86_64/egg/EGG-INFO\n",
      "zip_safe flag not set; analyzing archive contents...\n",
      "creating dist\n",
      "creating 'dist/midi-0.2.3-py3.8.egg' and adding 'build/bdist.linux-x86_64/egg' to it\n",
      "removing 'build/bdist.linux-x86_64/egg' (and everything under it)\n",
      "Processing midi-0.2.3-py3.8.egg\n",
      "Copying midi-0.2.3-py3.8.egg to /home/gaudio/anaconda3/envs/ste/lib/python3.8/site-packages\n",
      "Adding midi 0.2.3 to easy-install.pth file\n",
      "Installing mididump.py script to /home/gaudio/anaconda3/envs/ste/bin\n",
      "Installing mididumphw.py script to /home/gaudio/anaconda3/envs/ste/bin\n",
      "Installing midiplay.py script to /home/gaudio/anaconda3/envs/ste/bin\n",
      "\n",
      "Installed /home/gaudio/anaconda3/envs/ste/lib/python3.8/site-packages/midi-0.2.3-py3.8.egg\n",
      "Processing dependencies for midi==0.2.3\n",
      "Finished processing dependencies for midi==0.2.3\n"
     ]
    }
   ],
   "source": [
    "!cd python3-midi && python setup.py install"
   ]
  },
  {
   "cell_type": "code",
   "execution_count": 1,
   "id": "4797a35a",
   "metadata": {},
   "outputs": [
    {
     "name": "stdout",
     "output_type": "stream",
     "text": [
      "midi.Pattern(format=1, resolution=220, tracks=\\\n",
      "[midi.Track(\\\n",
      "  [midi.NoteOnEvent(tick=0, channel=0, data=[43, 20]),\n",
      "   midi.NoteOffEvent(tick=100, channel=0, data=[43, 0]),\n",
      "   midi.EndOfTrackEvent(tick=1, data=[])])])\n"
     ]
    }
   ],
   "source": [
    "import midi\n",
    "# Instantiate a MIDI Pattern (contains a list of tracks)\n",
    "pattern = midi.Pattern()\n",
    "# Instantiate a MIDI Track (contains a list of MIDI events)\n",
    "track = midi.Track()\n",
    "# Append the track to the pattern\n",
    "pattern.append(track)\n",
    "# Instantiate a MIDI note on event, append it to the track\n",
    "on = midi.NoteOnEvent(tick=0, velocity=20, pitch=midi.G_3)\n",
    "track.append(on)\n",
    "# Instantiate a MIDI note off event, append it to the track\n",
    "off = midi.NoteOffEvent(tick=100, pitch=midi.G_3)\n",
    "track.append(off)\n",
    "# Add the end of track event, append it to the track\n",
    "eot = midi.EndOfTrackEvent(tick=1)\n",
    "track.append(eot)\n",
    "# Print out the pattern\n",
    "print(pattern)\n",
    "# Save the pattern to disk\n",
    "midi.write_midifile(\"example.mid\", pattern)"
   ]
  },
  {
   "cell_type": "code",
   "execution_count": null,
   "id": "5aed1f91",
   "metadata": {},
   "outputs": [],
   "source": []
  }
 ],
 "metadata": {
  "kernelspec": {
   "display_name": "Python 3 (ipykernel)",
   "language": "python",
   "name": "python3"
  },
  "language_info": {
   "codemirror_mode": {
    "name": "ipython",
    "version": 3
   },
   "file_extension": ".py",
   "mimetype": "text/x-python",
   "name": "python",
   "nbconvert_exporter": "python",
   "pygments_lexer": "ipython3",
   "version": "3.8.8"
  }
 },
 "nbformat": 4,
 "nbformat_minor": 5
}
