{
 "cells": [
  {
   "cell_type": "code",
   "execution_count": null,
   "id": "38522bdf",
   "metadata": {},
   "outputs": [],
   "source": [
    "# Github에서 source를 받아옵니다.\n",
    "!git clone https://github.com/scpark20/AI-for-Music.git\n",
    "# source directory로 변경합니다.\n",
    "import os\n",
    "os.chdir('AI-for-Music/source')\n",
    "!pip install mido\n",
    "# Google drive에서 받기 위해 gdown을 설치합니다\n",
    "!pip install gdown\n",
    "# maestro-npy.zip 파일을 다운로드 합니다.\n",
    "!gdown https://drive.google.com/uc?id=1PCsy4C0XdO2hWedw7w6FZ39neCgAdNAi\n",
    "# maestro-npy.zip 압축파일을 풉니다.\n",
    "!unzip -o -qq maestro-npy.zip"
   ]
  },
  {
   "cell_type": "code",
   "execution_count": 2,
   "id": "26ad058c",
   "metadata": {},
   "outputs": [],
   "source": [
    "import torch\n",
    "import torch.nn as nn\n",
    "import torch.nn.functional as F\n",
    "import numpy as np\n",
    "\n",
    "from torch.utils.data import DataLoader\n",
    "from hparams import dataset_hparams, model_hparams\n",
    "from model import Model"
   ]
  },
  {
   "cell_type": "code",
   "execution_count": 3,
   "id": "6c516857",
   "metadata": {},
   "outputs": [],
   "source": [
    "import numpy as np\n",
    "import os\n",
    "os.environ[\"CUDA_VISIBLE_DEVICES\"]=\"0\""
   ]
  },
  {
   "cell_type": "markdown",
   "id": "c0175f02",
   "metadata": {},
   "source": [
    "### Model Init"
   ]
  },
  {
   "cell_type": "code",
   "execution_count": 4,
   "id": "3d19566b",
   "metadata": {},
   "outputs": [
    {
     "name": "stdout",
     "output_type": "stream",
     "text": [
      "Model(\n",
      "  (embedding): Embedding(390, 512)\n",
      "  (rnn): LSTM(512, 1024, num_layers=3, batch_first=True, dropout=0.1)\n",
      "  (out_layer): Linear(in_features=1024, out_features=390, bias=True)\n",
      ")\n",
      "done\n"
     ]
    }
   ],
   "source": [
    "model = Model(model_hparams).cuda()\n",
    "model.eval()\n",
    "print(model)\n",
    "print('done')"
   ]
  },
  {
   "cell_type": "markdown",
   "id": "7f8bc992",
   "metadata": {},
   "source": [
    "### Checkpoint Download & Load"
   ]
  },
  {
   "cell_type": "code",
   "execution_count": 152,
   "id": "17e4fb3f",
   "metadata": {},
   "outputs": [
    {
     "name": "stdout",
     "output_type": "stream",
     "text": [
      "Requirement already satisfied: gdown in /home/gaudio/anaconda3/envs/ste/lib/python3.8/site-packages (3.13.0)\n",
      "Requirement already satisfied: filelock in /home/gaudio/anaconda3/envs/ste/lib/python3.8/site-packages (from gdown) (3.0.12)\n",
      "Requirement already satisfied: six in /home/gaudio/anaconda3/envs/ste/lib/python3.8/site-packages (from gdown) (1.15.0)\n",
      "Requirement already satisfied: tqdm in /home/gaudio/anaconda3/envs/ste/lib/python3.8/site-packages (from gdown) (4.60.0)\n",
      "Requirement already satisfied: requests[socks]>=2.12.0 in /home/gaudio/anaconda3/envs/ste/lib/python3.8/site-packages (from gdown) (2.26.0)\n",
      "Requirement already satisfied: urllib3<1.27,>=1.21.1 in /home/gaudio/anaconda3/envs/ste/lib/python3.8/site-packages (from requests[socks]>=2.12.0->gdown) (1.26.6)\n",
      "Requirement already satisfied: charset-normalizer~=2.0.0 in /home/gaudio/anaconda3/envs/ste/lib/python3.8/site-packages (from requests[socks]>=2.12.0->gdown) (2.0.4)\n",
      "Requirement already satisfied: certifi>=2017.4.17 in /home/gaudio/anaconda3/envs/ste/lib/python3.8/site-packages (from requests[socks]>=2.12.0->gdown) (2021.5.30)\n",
      "Requirement already satisfied: idna<4,>=2.5 in /home/gaudio/anaconda3/envs/ste/lib/python3.8/site-packages (from requests[socks]>=2.12.0->gdown) (3.2)\n",
      "Requirement already satisfied: PySocks!=1.5.7,>=1.5.6 in /home/gaudio/anaconda3/envs/ste/lib/python3.8/site-packages (from requests[socks]>=2.12.0->gdown) (1.7.1)\n",
      "Downloading...\n",
      "From: https://drive.google.com/uc?id=1jjBMcmfZipDzR9977ViJUt6j07U_hLjX\n",
      "To: /home/gaudio/ste/projects/lectures/AI-for-Music/source/checkpoint_300000\n",
      "100%|████████████████████████████████████████| 284M/284M [01:06<00:00, 4.25MB/s]\n"
     ]
    }
   ],
   "source": [
    "# Google drive에서 받기 위해 gdown을 설치합니다\n",
    "!pip install gdown\n",
    "# Checkpoint 파일을 다운로드 합니다.\n",
    "!gdown https://drive.google.com/uc?id=1jjBMcmfZipDzR9977ViJUt6j07U_hLjX"
   ]
  },
  {
   "cell_type": "code",
   "execution_count": 153,
   "id": "cafbdbdf",
   "metadata": {},
   "outputs": [
    {
     "name": "stdout",
     "output_type": "stream",
     "text": [
      "done\n"
     ]
    }
   ],
   "source": [
    "checkpoint = torch.load('checkpoint_300000', map_location=torch.device('cpu'))    \n",
    "model.load_state_dict(checkpoint['model_state_dict'])\n",
    "print('done')"
   ]
  },
  {
   "cell_type": "markdown",
   "id": "f6a58b94",
   "metadata": {},
   "source": [
    "### Maestro Download & Unzip"
   ]
  },
  {
   "cell_type": "code",
   "execution_count": 156,
   "id": "b34446fc",
   "metadata": {},
   "outputs": [
    {
     "name": "stdout",
     "output_type": "stream",
     "text": [
      "--2022-01-24 02:28:09--  https://storage.googleapis.com/magentadata/datasets/maestro/v3.0.0/maestro-v3.0.0-midi.zip\n",
      "Resolving storage.googleapis.com (storage.googleapis.com)... 172.217.25.80, 216.58.197.208, 172.217.26.240, ...\n",
      "Connecting to storage.googleapis.com (storage.googleapis.com)|172.217.25.80|:443... connected.\n",
      "HTTP request sent, awaiting response... 200 OK\n",
      "Length: 58416533 (56M) [application/octet-stream]\n",
      "Saving to: ‘maestro-v3.0.0-midi.zip.2’\n",
      "\n",
      "maestro-v3.0.0-midi 100%[===================>]  55.71M  4.01MB/s    in 14s     \n",
      "\n",
      "2022-01-24 02:28:24 (4.02 MB/s) - ‘maestro-v3.0.0-midi.zip.2’ saved [58416533/58416533]\n",
      "\n"
     ]
    }
   ],
   "source": [
    "!wget https://storage.googleapis.com/magentadata/datasets/maestro/v3.0.0/maestro-v3.0.0-midi.zip\n",
    "!unzip -o -qq maestro-v3.0.0-midi.zip"
   ]
  },
  {
   "cell_type": "markdown",
   "id": "28473078",
   "metadata": {},
   "source": [
    "### Midi 파일 정보 midi_list에 담기"
   ]
  },
  {
   "cell_type": "code",
   "execution_count": 157,
   "id": "cb49a13b",
   "metadata": {},
   "outputs": [
    {
     "name": "stdout",
     "output_type": "stream",
     "text": [
      "0 {'file': 'maestro-v3.0.0/2018/MIDI-Unprocessed_Chamber3_MID--AUDIO_10_R3_2018_wav--1.midi', 'composer': 'Alban Berg', 'title': 'Sonata Op. 1'}\n",
      "1 {'file': 'maestro-v3.0.0/2008/MIDI-Unprocessed_03_R2_2008_01-03_ORIG_MID--AUDIO_03_R2_2008_wav--2.midi', 'composer': 'Alban Berg', 'title': 'Sonata Op. 1'}\n",
      "2 {'file': 'maestro-v3.0.0/2017/MIDI-Unprocessed_066_PIANO066_MID--AUDIO-split_07-07-17_Piano-e_3-02_wav--3.midi', 'composer': 'Alban Berg', 'title': 'Sonata Op. 1'}\n",
      "3 {'file': 'maestro-v3.0.0/2004/MIDI-Unprocessed_XP_21_R1_2004_01_ORIG_MID--AUDIO_21_R1_2004_01_Track01_wav.midi', 'composer': 'Alexander Scriabin', 'title': '24 Preludes Op. 11, No. 13-24'}\n",
      "4 {'file': 'maestro-v3.0.0/2006/MIDI-Unprocessed_17_R1_2006_01-06_ORIG_MID--AUDIO_17_R1_2006_04_Track04_wav.midi', 'composer': 'Alexander Scriabin', 'title': '3 Etudes, Op. 65'}\n"
     ]
    }
   ],
   "source": [
    "import csv \n",
    "\n",
    "root_dir = 'maestro-v3.0.0/'\n",
    "midi_list = []\n",
    "with open(root_dir + 'maestro-v3.0.0.csv') as csvfile:\n",
    "    reader = csv.reader(csvfile)\n",
    "    for row in reader:\n",
    "        midi_info = {'file': root_dir + row[4],\n",
    "                     'composer': row[0],\n",
    "                     'title': row[1]}\n",
    "        midi_list.append(midi_info)\n",
    "midi_list = midi_list[1:]\n",
    "\n",
    "for i, midi_info in enumerate(midi_list[:5]):\n",
    "    print(i, midi_info)"
   ]
  },
  {
   "cell_type": "markdown",
   "id": "a62fbe25",
   "metadata": {},
   "source": [
    "### MIDI정보를 Token으로 변환"
   ]
  },
  {
   "cell_type": "code",
   "execution_count": 168,
   "id": "f799a78b",
   "metadata": {},
   "outputs": [
    {
     "name": "stdout",
     "output_type": "stream",
     "text": [
      "[ 49 113 196 ... 344  19 389]\n"
     ]
    }
   ],
   "source": [
    "from midi_utils import get_event_list, event_list_to_tokens\n",
    "event_list = get_event_list(midi_list[1251]['file'])\n",
    "tokens = event_list_to_tokens(event_list, dataset_hparams)\n",
    "print(tokens)"
   ]
  },
  {
   "cell_type": "markdown",
   "id": "77916396",
   "metadata": {},
   "source": [
    "### Token 앞부분을 모델에 입력하고 뒤를 생성"
   ]
  },
  {
   "cell_type": "code",
   "execution_count": 169,
   "id": "cda66092",
   "metadata": {},
   "outputs": [
    {
     "data": {
      "application/vnd.jupyter.widget-view+json": {
       "model_id": "2239bbe338f342678df0af98093d7f5f",
       "version_major": 2,
       "version_minor": 0
      },
      "text/plain": [
       "  0%|          | 0/10000 [00:00<?, ?it/s]"
      ]
     },
     "metadata": {},
     "output_type": "display_data"
    },
    {
     "name": "stdout",
     "output_type": "stream",
     "text": [
      "[ 49 113 196 ...   0 309   0]\n"
     ]
    }
   ],
   "source": [
    "from tqdm.notebook import tqdm\n",
    "\n",
    "x = torch.from_numpy(tokens[:50]).cuda().unsqueeze(0)\n",
    "state = model._get_initial_state(1)\n",
    "x_new, state = model.inference(x, state, temperature=0.8)\n",
    "x = torch.cat([x, x_new], dim=1)\n",
    "\n",
    "for _ in tqdm(range(10000)):\n",
    "    with torch.no_grad():\n",
    "        x_new, state = model.inference(x[:, -1:], state, temperature=0.8)\n",
    "        x = torch.cat([x, x_new], dim=1)\n",
    "        \n",
    "_x = x[0].data.cpu().numpy()\n",
    "print(_x)"
   ]
  },
  {
   "cell_type": "markdown",
   "id": "85075213",
   "metadata": {},
   "source": [
    "### 구한 Token을 event_list로 변환하고 midi파일로 save"
   ]
  },
  {
   "cell_type": "code",
   "execution_count": 170,
   "id": "b0d4732f",
   "metadata": {},
   "outputs": [
    {
     "name": "stdout",
     "output_type": "stream",
     "text": [
      "{'time': 0.98, 'type': 'note_on', 'note': 64, 'velocity': 52}\n",
      "{'time': 1.02, 'type': 'note_on', 'note': 67, 'velocity': 64}\n",
      "{'time': 1.06, 'type': 'note_on', 'note': 48, 'velocity': 52}\n",
      "{'time': 1.06, 'type': 'note_on', 'note': 72, 'velocity': 72}\n",
      "{'time': 1.1, 'type': 'note_off', 'note': 48}\n",
      "{'time': 1.1800000000000002, 'type': 'note_on', 'note': 60, 'velocity': 60}\n",
      "{'time': 1.2200000000000002, 'type': 'note_off', 'note': 60}\n",
      "{'time': 1.2600000000000002, 'type': 'note_on', 'note': 59, 'velocity': 72}\n",
      "{'time': 1.3000000000000003, 'type': 'note_off', 'note': 59}\n",
      "{'time': 1.3600000000000003, 'type': 'note_on', 'note': 60, 'velocity': 64}\n",
      "done\n"
     ]
    }
   ],
   "source": [
    "from midi_utils import tokens_to_event_list, save_event_list_to_midi_file\n",
    "event_list = tokens_to_event_list(_x, dataset_hparams)\n",
    "for event in event_list[:10]:\n",
    "    print(event)\n",
    "    \n",
    "save_event_list_to_midi_file(event_list, 'AI_song_No.1.midi', speed=1.7)\n",
    "print('done')"
   ]
  },
  {
   "cell_type": "code",
   "execution_count": null,
   "id": "5162b47d",
   "metadata": {},
   "outputs": [],
   "source": [
    "from google.colab import files\n",
    "files.download('AI_song_No.1.midi')"
   ]
  }
 ],
 "metadata": {
  "kernelspec": {
   "display_name": "Python 3 (ipykernel)",
   "language": "python",
   "name": "python3"
  },
  "language_info": {
   "codemirror_mode": {
    "name": "ipython",
    "version": 3
   },
   "file_extension": ".py",
   "mimetype": "text/x-python",
   "name": "python",
   "nbconvert_exporter": "python",
   "pygments_lexer": "ipython3",
   "version": "3.8.8"
  }
 },
 "nbformat": 4,
 "nbformat_minor": 5
}
