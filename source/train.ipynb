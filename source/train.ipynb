{
 "cells": [
  {
   "cell_type": "code",
   "execution_count": null,
   "id": "e286dc96",
   "metadata": {},
   "outputs": [],
   "source": [
    "import torch\n",
    "import torch.nn as nn\n",
    "import torch.nn.functional as F\n",
    "import numpy as np\n",
    "\n",
    "from torch.utils.data import DataLoader\n",
    "from dataset import MaestroDataset\n",
    "from hparams import dataset_hparams, model_hparams\n",
    "from model import Model"
   ]
  },
  {
   "cell_type": "code",
   "execution_count": null,
   "id": "beb1fcd0",
   "metadata": {
    "scrolled": true
   },
   "outputs": [],
   "source": [
    "import numpy as np\n",
    "import os\n",
    "os.environ[\"CUDA_VISIBLE_DEVICES\"]=\"0\""
   ]
  },
  {
   "cell_type": "markdown",
   "id": "de8b81f8",
   "metadata": {},
   "source": [
    "### Init Dataset"
   ]
  },
  {
   "cell_type": "code",
   "execution_count": null,
   "id": "1d46fc21",
   "metadata": {},
   "outputs": [],
   "source": [
    "maestro_dataset = MaestroDataset(dataset_hparams)\n",
    "print(maestro_dataset)\n",
    "\n",
    "train_loader = DataLoader(maestro_dataset, batch_size=16)\n",
    "print(train_loader)"
   ]
  },
  {
   "cell_type": "markdown",
   "id": "409b4e11",
   "metadata": {},
   "source": [
    "### Init Model"
   ]
  },
  {
   "cell_type": "code",
   "execution_count": null,
   "id": "8dfbf947",
   "metadata": {},
   "outputs": [],
   "source": [
    "model = Model(model_hparams).cuda()\n",
    "print(model)\n",
    "optimizer = torch.optim.Adam(model.parameters(), lr=1e-4)\n",
    "print('done')"
   ]
  },
  {
   "cell_type": "markdown",
   "id": "c6dc8fce",
   "metadata": {},
   "source": [
    "### Create directory for checkpoints"
   ]
  },
  {
   "cell_type": "code",
   "execution_count": null,
   "id": "e540e1ef",
   "metadata": {},
   "outputs": [],
   "source": [
    "!mkdir -p checkpoints\n",
    "!ls checkpoints"
   ]
  },
  {
   "cell_type": "markdown",
   "id": "3ca2d7aa",
   "metadata": {},
   "source": [
    "### Load checkpoint if need"
   ]
  },
  {
   "cell_type": "code",
   "execution_count": null,
   "id": "8ad60f07",
   "metadata": {},
   "outputs": [],
   "source": [
    "# checkpoint = torch.load('checkpoints1e-4/checkpoint_20000', map_location=torch.device('cpu'))    \n",
    "# model.load_state_dict(checkpoint['model_state_dict'])\n",
    "# optimizer.load_state_dict(checkpoint['optimizer_state_dict'])\n",
    "# print('done')"
   ]
  },
  {
   "cell_type": "markdown",
   "id": "7935407e",
   "metadata": {},
   "source": [
    "### Train Loop"
   ]
  },
  {
   "cell_type": "code",
   "execution_count": null,
   "id": "488f507f",
   "metadata": {
    "scrolled": true
   },
   "outputs": [],
   "source": [
    "import librosa.display\n",
    "from IPython import display\n",
    "import matplotlib.pyplot as plt\n",
    "\n",
    "while True:\n",
    "    for i, batch in enumerate(train_loader):\n",
    "        \n",
    "        # Train step을 1 증가 시킵니다.\n",
    "        model.step[0] += 1\n",
    "        step = model.step.item()\n",
    "        \n",
    "        # Model을 train mode로 설정합니다.\n",
    "        model.train()\n",
    "        \n",
    "        # batch 데이터를 GPU로 올립니다.\n",
    "        x = batch.cuda()\n",
    "        \n",
    "        # Model의 gradient를 모두 zero로 init합니다.\n",
    "        model.zero_grad()\n",
    "        \n",
    "        # Model에 input data를 입력합니다.\n",
    "        # 출력은 다음 step의 token에 대한 probability distribution이 됩니다.\n",
    "        # y : (batch, length, n_tokens)\n",
    "        y = model(x[:, :-1])\n",
    "        \n",
    "        # Target과 비교하여 loss값을 구합니다.\n",
    "        loss = nn.CrossEntropyLoss()(y.reshape(-1, model_hparams.n_tokens), x[:, 1:].reshape(-1))\n",
    "        \n",
    "        # Loss값을 시작으로 backpropagation을 진행하여 gradient를 업데이트합니다.\n",
    "        loss.backward()\n",
    "        \n",
    "        # Gradient를 weight에 적용합니다.\n",
    "        optimizer.step()\n",
    "    \n",
    "        if step % 10 == 0:\n",
    "            print('step :', step, 'loss : %0.4f' % loss.item())\n",
    "        \n",
    "        if step % 100 == 0:\n",
    "            display.clear_output()\n",
    "            \n",
    "        if step % 1000 == 0:\n",
    "            save_path = 'checkpoints/checkpoint_' + str(step)\n",
    "            torch.save({'model_state_dict': model.state_dict(),\n",
    "                        'optimizer_state_dict': optimizer.state_dict()}, save_path)\n"
   ]
  }
 ],
 "metadata": {
  "kernelspec": {
   "display_name": "Python 3 (ipykernel)",
   "language": "python",
   "name": "python3"
  },
  "language_info": {
   "codemirror_mode": {
    "name": "ipython",
    "version": 3
   },
   "file_extension": ".py",
   "mimetype": "text/x-python",
   "name": "python",
   "nbconvert_exporter": "python",
   "pygments_lexer": "ipython3",
   "version": "3.8.8"
  }
 },
 "nbformat": 4,
 "nbformat_minor": 5
}
