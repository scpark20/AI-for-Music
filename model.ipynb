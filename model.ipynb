{
 "cells": [
  {
   "cell_type": "code",
   "execution_count": 1,
   "id": "adcd067d",
   "metadata": {},
   "outputs": [],
   "source": [
    "import torch\n",
    "import torch.nn as nn\n",
    "import torch.nn.functional as F\n",
    "import numpy as np"
   ]
  },
  {
   "cell_type": "code",
   "execution_count": 2,
   "id": "e38f1331",
   "metadata": {},
   "outputs": [],
   "source": [
    "from easydict import EasyDict\n",
    "dims = EasyDict(interval = 100,\n",
    "                velocity = 32,\n",
    "                note_on = 128,\n",
    "                note_off = 128,\n",
    "                pedal_on = 1,\n",
    "                pedal_off = 1)\n",
    "\n",
    "offsets = EasyDict(interval = 100,\n",
    "                   velocity = dims.interval,\n",
    "                   note_on = dims.interval + dims.velocity,\n",
    "                   note_off = dims.interval + dims.velocity + dims.note_on,\n",
    "                   pedal_on = dims.interval + dims.velocity + dims.note_on + dims.note_off,\n",
    "                   pedal_off = dims.interval + dims.velocity + dims.note_on + dims.note_off + dims.pedal_on)\n",
    "\n",
    "dataset_hparams = EasyDict(root_dir = 'dataset/',\n",
    "                           max_note_duration = 2, # seconds)\n",
    "                           token_length = 1024,\n",
    "                           dims = dims,\n",
    "                           offsets = offsets\n",
    "                          )\n",
    "model_hparams = EasyDict(n_tokens = offsets.pedal_off,\n",
    "                         embedding_dim = 512,\n",
    "                         hidden_dim = 1024\n",
    "                        )      "
   ]
  },
  {
   "cell_type": "code",
   "execution_count": 16,
   "id": "b825048c",
   "metadata": {},
   "outputs": [],
   "source": [
    "class Model(nn.Module):\n",
    "    def __init__(self, model_hparams):\n",
    "        super().__init__()\n",
    "        self.hp = model_hparams\n",
    "        self.step = nn.Parameter(torch.zeros(1).long(), requires_grad=False)\n",
    "        self.embedding = nn.Embedding(self.hp.n_tokens, self.hp.embedding_dim)\n",
    "        self.rnn = nn.LSTM(input_size=self.hp.embedding_dim, hidden_size=self.hp.hidden_dim,\n",
    "                        num_layers=3, batch_first=True, dropout=0.1)\n",
    "        self.out_layer = nn.Linear(self.hp.hidden_dim, self.hp.n_tokens)\n",
    "        \n",
    "    def forward(self, x):\n",
    "        # x : (batch, length)\n",
    "        \n",
    "        # (batch, length, model_dim)\n",
    "        x = self.embedding(x)\n",
    "        # (batch, length, hidden_dim)\n",
    "        x, _ = self.rnn(x)\n",
    "        # (batch, length, n_tokens)\n",
    "        x = self.out_layer(x)\n",
    "        return x\n",
    "        "
   ]
  },
  {
   "cell_type": "code",
   "execution_count": 17,
   "id": "6a019ec1",
   "metadata": {},
   "outputs": [
    {
     "name": "stdout",
     "output_type": "stream",
     "text": [
      "Model(\n",
      "  (embedding): Embedding(389, 512)\n",
      "  (rnn): LSTM(512, 1024, num_layers=3, batch_first=True, dropout=0.1)\n",
      "  (out_layer): Linear(in_features=1024, out_features=389, bias=True)\n",
      ")\n"
     ]
    }
   ],
   "source": [
    "model = Model(model_hparams)\n",
    "print(model)"
   ]
  },
  {
   "cell_type": "code",
   "execution_count": 18,
   "id": "b0165f1a",
   "metadata": {},
   "outputs": [
    {
     "name": "stdout",
     "output_type": "stream",
     "text": [
      "torch.Size([2, 100, 389])\n"
     ]
    }
   ],
   "source": [
    "t = torch.randint(high=200, size=(2, 100))\n",
    "t = model(t)\n",
    "print(t.shape)"
   ]
  },
  {
   "cell_type": "code",
   "execution_count": 25,
   "id": "77c8a073",
   "metadata": {},
   "outputs": [],
   "source": [
    "model.step[0] = 1"
   ]
  },
  {
   "cell_type": "code",
   "execution_count": null,
   "id": "2e9e6209",
   "metadata": {},
   "outputs": [],
   "source": [
    "tprc"
   ]
  },
  {
   "cell_type": "code",
   "execution_count": null,
   "id": "328e00f3",
   "metadata": {},
   "outputs": [],
   "source": []
  },
  {
   "cell_type": "code",
   "execution_count": null,
   "id": "d20e1a7f",
   "metadata": {},
   "outputs": [],
   "source": []
  }
 ],
 "metadata": {
  "kernelspec": {
   "display_name": "Python 3 (ipykernel)",
   "language": "python",
   "name": "python3"
  },
  "language_info": {
   "codemirror_mode": {
    "name": "ipython",
    "version": 3
   },
   "file_extension": ".py",
   "mimetype": "text/x-python",
   "name": "python",
   "nbconvert_exporter": "python",
   "pygments_lexer": "ipython3",
   "version": "3.8.8"
  }
 },
 "nbformat": 4,
 "nbformat_minor": 5
}
