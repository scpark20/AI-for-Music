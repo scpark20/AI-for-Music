{
 "cells": [
  {
   "cell_type": "code",
   "execution_count": 1,
   "id": "e286dc96",
   "metadata": {},
   "outputs": [],
   "source": [
    "import torch\n",
    "import torch.nn as nn\n",
    "import torch.nn.functional as F\n",
    "import numpy as np\n",
    "\n",
    "from torch.utils.data import DataLoader\n",
    "from dataset import dataset_hparams, MaestroDataset\n",
    "from model import model_hparams, Model"
   ]
  },
  {
   "cell_type": "code",
   "execution_count": 2,
   "id": "beb1fcd0",
   "metadata": {
    "scrolled": true
   },
   "outputs": [],
   "source": [
    "import numpy as np\n",
    "import os\n",
    "os.environ[\"CUDA_VISIBLE_DEVICES\"]=\"1\""
   ]
  },
  {
   "cell_type": "markdown",
   "id": "de8b81f8",
   "metadata": {},
   "source": [
    "### Init Dataset"
   ]
  },
  {
   "cell_type": "code",
   "execution_count": 3,
   "id": "1d46fc21",
   "metadata": {},
   "outputs": [
    {
     "name": "stdout",
     "output_type": "stream",
     "text": [
      "<dataset.MaestroDataset object at 0x7f09c449d850>\n",
      "<torch.utils.data.dataloader.DataLoader object at 0x7f09c4cfbbb0>\n"
     ]
    }
   ],
   "source": [
    "maestro_dataset = MaestroDataset(dataset_hparams)\n",
    "print(maestro_dataset)\n",
    "\n",
    "train_loader = DataLoader(maestro_dataset, batch_size=16)\n",
    "print(train_loader)"
   ]
  },
  {
   "cell_type": "markdown",
   "id": "409b4e11",
   "metadata": {},
   "source": [
    "### Init Model"
   ]
  },
  {
   "cell_type": "code",
   "execution_count": 4,
   "id": "8dfbf947",
   "metadata": {},
   "outputs": [
    {
     "name": "stdout",
     "output_type": "stream",
     "text": [
      "Model(\n",
      "  (embedding): Embedding(390, 512)\n",
      "  (rnn): LSTM(512, 1024, num_layers=3, batch_first=True, dropout=0.1)\n",
      "  (out_layer): Linear(in_features=1024, out_features=390, bias=True)\n",
      ")\n",
      "done\n"
     ]
    }
   ],
   "source": [
    "model = Model(model_hparams).cuda()\n",
    "print(model)\n",
    "optimizer = torch.optim.Adam(model.parameters(), lr=1e-3)\n",
    "print('done')"
   ]
  },
  {
   "cell_type": "code",
   "execution_count": 5,
   "id": "e540e1ef",
   "metadata": {},
   "outputs": [
    {
     "name": "stdout",
     "output_type": "stream",
     "text": [
      "mkdir: cannot create directory ‘checkpoints1e-4’: File exists\n",
      "checkpoint_10000  checkpoint_14000  checkpoint_18000  checkpoint_7000\n",
      "checkpoint_11000  checkpoint_15000  checkpoint_19000  checkpoint_8000\n",
      "checkpoint_12000  checkpoint_16000  checkpoint_20000  checkpoint_9000\n",
      "checkpoint_13000  checkpoint_17000  checkpoint_6000\n"
     ]
    }
   ],
   "source": [
    "!mkdir checkpoints1e-4\n",
    "!ls checkpoints1e-4"
   ]
  },
  {
   "cell_type": "code",
   "execution_count": 6,
   "id": "8ad60f07",
   "metadata": {},
   "outputs": [
    {
     "name": "stdout",
     "output_type": "stream",
     "text": [
      "done\n"
     ]
    }
   ],
   "source": [
    "# checkpoint = torch.load('checkpoints1e-4/checkpoint_20000', map_location=torch.device('cpu'))    \n",
    "# model.load_state_dict(checkpoint['model_state_dict'])\n",
    "# optimizer.load_state_dict(checkpoint['optimizer_state_dict'])\n",
    "# print('done')"
   ]
  },
  {
   "cell_type": "markdown",
   "id": "7935407e",
   "metadata": {},
   "source": [
    "### Train Loop"
   ]
  },
  {
   "cell_type": "code",
   "execution_count": null,
   "id": "488f507f",
   "metadata": {},
   "outputs": [
    {
     "name": "stdout",
     "output_type": "stream",
     "text": [
      "21810 1.7533745765686035\n",
      "21820 1.781282663345337\n",
      "21830 1.8796710968017578\n"
     ]
    }
   ],
   "source": [
    "import librosa.display\n",
    "from IPython import display\n",
    "import matplotlib.pyplot as plt\n",
    "\n",
    "while True:\n",
    "    for i, batch in enumerate(train_loader):\n",
    "        model.step[0] += 1\n",
    "        step = model.step.item()\n",
    "        \n",
    "        model.train()\n",
    "        x = batch.cuda()\n",
    "        model.zero_grad()\n",
    "        \n",
    "        y = model(x[:, :-1])\n",
    "        loss = nn.CrossEntropyLoss()(y.reshape(-1, model_hparams.n_tokens), x[:, 1:].reshape(-1))\n",
    "        loss.backward()\n",
    "        optimizer.step()\n",
    "        \n",
    "        if step % 10 == 0:\n",
    "            print(step, loss.item())\n",
    "        \n",
    "        if step % 100 == 0:\n",
    "            display.clear_output()\n",
    "            \n",
    "        if step % 1000 == 0:\n",
    "            save_path = 'checkpoints1e-4/checkpoint_' + str(step)\n",
    "            torch.save({'model_state_dict': model.state_dict(),\n",
    "                        'optimizer_state_dict': optimizer.state_dict()}, save_path)\n"
   ]
  },
  {
   "cell_type": "code",
   "execution_count": null,
   "id": "bd7f0a9b",
   "metadata": {},
   "outputs": [],
   "source": []
  }
 ],
 "metadata": {
  "kernelspec": {
   "display_name": "Python 3 (ipykernel)",
   "language": "python",
   "name": "python3"
  },
  "language_info": {
   "codemirror_mode": {
    "name": "ipython",
    "version": 3
   },
   "file_extension": ".py",
   "mimetype": "text/x-python",
   "name": "python",
   "nbconvert_exporter": "python",
   "pygments_lexer": "ipython3",
   "version": "3.8.8"
  }
 },
 "nbformat": 4,
 "nbformat_minor": 5
}
